{
 "cells": [
  {
   "metadata": {
    "ExecuteTime": {
     "end_time": "2024-07-22T13:07:23.913270Z",
     "start_time": "2024-07-22T13:07:23.896411Z"
    }
   },
   "cell_type": "code",
   "source": [
    "import numpy as np\n",
    "import pandas as pd\n",
    "import scipy as sp\n",
    "import sklearn as sk\n",
    "import matplotlib.pyplot as plt\n",
    "import seaborn as sns\n",
    "import os"
   ],
   "id": "11914e87ce620b81",
   "outputs": [],
   "execution_count": 19
  },
  {
   "metadata": {},
   "cell_type": "markdown",
   "source": "## Loading data",
   "id": "90abc390ec50fd33"
  },
  {
   "metadata": {
    "ExecuteTime": {
     "end_time": "2024-07-22T13:07:25.242407Z",
     "start_time": "2024-07-22T13:07:25.228241Z"
    }
   },
   "cell_type": "code",
   "source": [
    "# Data source\n",
    "root_path = os.getcwd()\n",
    "DATA_PATH = None  # directory of data\n",
    "DATASET = 'test_script'  # name of dataset\n",
    "\n",
    "FINAL_DATA_PATH = root_path + os.path.join(f'\\\\{DATASET}')"
   ],
   "id": "d5de0ba0153001f1",
   "outputs": [],
   "execution_count": 20
  },
  {
   "metadata": {
    "ExecuteTime": {
     "end_time": "2024-07-22T13:07:27.231440Z",
     "start_time": "2024-07-22T13:07:27.224088Z"
    }
   },
   "cell_type": "code",
   "source": [
    "# Destination \n",
    "FIGURE_DESTINATION = None\n",
    "FINAL_FIGURE_PATH = root_path + os.path.join(f'\\\\{FIGURE_DESTINATION}')"
   ],
   "id": "cda73a21dbe4a8af",
   "outputs": [],
   "execution_count": 21
  },
  {
   "metadata": {
    "ExecuteTime": {
     "end_time": "2024-07-22T12:53:29.379613Z",
     "start_time": "2024-07-22T12:53:29.361362Z"
    }
   },
   "cell_type": "code",
   "source": [
    "def load_data(filepath = None):\n",
    "    if not filepath:\n",
    "        raise ValueError(\"Invalid dataset directory provided\")\n",
    "    dataframe = pd.read_csv(filepath, header=None, dtype=np.float32)\n",
    "    return dataframe"
   ],
   "id": "700f885a6434c6c3",
   "outputs": [],
   "execution_count": 4
  },
  {
   "metadata": {},
   "cell_type": "code",
   "outputs": [],
   "execution_count": null,
   "source": "data = load_data(FINAL_DATA_PATH)",
   "id": "9e609e46cf9386b5"
  },
  {
   "metadata": {},
   "cell_type": "markdown",
   "source": "# Correlation heatmaps",
   "id": "a9170a7331825f06"
  },
  {
   "metadata": {},
   "cell_type": "code",
   "outputs": [],
   "execution_count": null,
   "source": [
    "# Correlation heatmaps\n",
    "sns.set(style=\"darkgrid\")\n",
    "rf = sns.heatmap(data.corr(), annot=True, cmap='ReGrYl', linewidth=0.2)\n",
    "fig = plt.gcf()\n",
    "fig.set_size_inches(12, 12)\n",
    "plt.show()\n",
    "rf.savefig(f'{DATASET}_heatmap', dpi=400)"
   ],
   "id": "9c0f620d81d2dec3"
  },
  {
   "metadata": {},
   "cell_type": "markdown",
   "source": [
    "# High-pass filters\n",
    "## 4th-order Butterworth filter"
   ],
   "id": "40bd1ce40460ade1"
  },
  {
   "metadata": {},
   "cell_type": "code",
   "outputs": [],
   "execution_count": null,
   "source": "",
   "id": "2c65a1baac07ba86"
  }
 ],
 "metadata": {
  "kernelspec": {
   "display_name": "Python 3",
   "language": "python",
   "name": "python3"
  },
  "language_info": {
   "codemirror_mode": {
    "name": "ipython",
    "version": 2
   },
   "file_extension": ".py",
   "mimetype": "text/x-python",
   "name": "python",
   "nbconvert_exporter": "python",
   "pygments_lexer": "ipython2",
   "version": "2.7.6"
  }
 },
 "nbformat": 4,
 "nbformat_minor": 5
}

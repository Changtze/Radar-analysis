{
 "cells": [
  {
   "cell_type": "code",
   "id": "initial_id",
   "metadata": {
    "collapsed": true
   },
   "source": [
    "import numpy as np\n",
    "import matplotlib.pyplot as plt\n",
    "from scipy.fft import fft, fftfreq\n",
    "from scipy import signal\n",
    "from scipy.signal.windows import gaussian"
   ],
   "outputs": [],
   "execution_count": null
  },
  {
   "metadata": {},
   "cell_type": "markdown",
   "source": "",
   "id": "7a731b59a2c05452"
  },
  {
   "metadata": {},
   "cell_type": "code",
   "source": "data_dir = 'D:/Data Science/UROP/WendiX4Testing/data/'",
   "id": "255a5de8c1315918",
   "outputs": [],
   "execution_count": null
  },
  {
   "metadata": {},
   "cell_type": "code",
   "source": [
    "def line_plot(x_data: np.array = None, \n",
    "              y_data: np.array = None,\n",
    "              title: str = None,\n",
    "              xlabel: str = None,\n",
    "              ylabel: str = None,\n",
    "              line_width: float = 0.5,\n",
    "              color = \"red\",\n",
    "              line_style = \"-\",\n",
    "              ):\n",
    "\n",
    "    plt.plot(x_data, y_data, \n",
    "             linewidth=line_width,\n",
    "             color=color,\n",
    "             linestyle=line_style)\n",
    "    plt.title(title)\n",
    "    plt.xlabel(xlabel)\n",
    "    plt.ylabel(ylabel)\n",
    "    plt.show()\n",
    "    return None\n",
    "\n",
    "def heatmap_plot(matrix, cmap='viridis'):\n",
    "    plt.imshow(matrix, cmap=cmap)\n",
    "    plt.colorbar()\n",
    "    plt.show()"
   ],
   "id": "b0c8c898202a6e9d",
   "outputs": [],
   "execution_count": null
  },
  {
   "metadata": {},
   "cell_type": "markdown",
   "source": "# Loading raw .npy files",
   "id": "1dfa6e213ca01ea8"
  },
  {
   "metadata": {},
   "cell_type": "code",
   "source": [
    "# Loading data\n",
    "B500HZ = np.load(f'{data_dir}0605_breathing_500HZ.npy')\n",
    "o_moves = np.load(f'{data_dir}0605_other_moves.npy')\n",
    "breathing = np.load(f'{data_dir}0610_breathing.npy')\n",
    "walking = np.load(f'{data_dir}0610_walking.npy')\n",
    "np_walking = np.load(f'{data_dir}0613_nonpure_walking.npy')\n",
    "std_breathing = np.load(f'{data_dir}0613_standing_breathing.npy')\n",
    "walk_and_breathe = np.load(f'{data_dir}0613_walking_and_breathing.npy')"
   ],
   "id": "7b8f082563d00be6",
   "outputs": [],
   "execution_count": null
  },
  {
   "metadata": {},
   "cell_type": "code",
   "source": "",
   "id": "60837cc85c468942",
   "outputs": [],
   "execution_count": null
  },
  {
   "metadata": {},
   "cell_type": "markdown",
   "source": "# Loading complex number data",
   "id": "5c29647626a352d"
  },
  {
   "metadata": {},
   "cell_type": "code",
   "source": [
    "# x-y plot of real and imaginary components\n",
    "complex_data = [np.real(B500HZ[:,0]), \n",
    "                np.imag(B500HZ[:,0]),\n",
    "                np.real(o_moves[:,0]),\n",
    "                np.imag(o_moves[:,0]),\n",
    "                np.real(breathing[:,0]),\n",
    "                np.imag(breathing[:,0]),\n",
    "                np.real(np_walking[:, 0]),\n",
    "                np.imag(np_walking[:, 0]),\n",
    "                np.real(std_breathing[:, 0]),\n",
    "                np.imag(std_breathing[:, 0]),\n",
    "                np.real(walk_and_breathe[:, 0]),\n",
    "                np.imag(walk_and_breathe[:, 0])\n",
    "                ]\n",
    "\n",
    "complex_data_labels = ['Breathing (500HZ)',\n",
    "                       'Other moves',\n",
    "                       'Breathing',\n",
    "                       'Walking',\n",
    "                       'Standing and breathing',\n",
    "                       'Walking and breathing'\n",
    "                       ]"
   ],
   "id": "d4b600756c23b0d9",
   "outputs": [],
   "execution_count": null
  },
  {
   "metadata": {},
   "cell_type": "code",
   "source": [
    "xlabel = 'Real component'\n",
    "ylabel = 'Imaginary component'\n",
    "\n",
    "for i in range(0, len(complex_data), 2):\n",
    "    line_plot(complex_data[i], \n",
    "              complex_data[i+1],\n",
    "              title=complex_data_labels[i//2],\n",
    "              xlabel=xlabel,\n",
    "              ylabel=ylabel)\n",
    "    "
   ],
   "id": "c62e6ba3e69ee6ea",
   "outputs": [],
   "execution_count": null
  },
  {
   "metadata": {},
   "cell_type": "code",
   "source": [
    "# Visualising the evolution of a large set of range bins\n",
    "x9 = np.linspace(0, np.size(B500HZ, 0)-1, np.size(B500HZ, 0))\n",
    "\n",
    "sub_rows = 3\n",
    "fig, ax = plt.subplots(sub_rows, \n",
    "                       10,\n",
    "                       figsize=(35, 12))\n",
    "\n",
    "\n",
    "for row in range(sub_rows):\n",
    "    for column in range(10):\n",
    "        ax[row, column].plot(x9, np.real(B500HZ[:, int(str(row) + str(column))]),\n",
    "                            color=\"red\",\n",
    "                            linewidth=0.05,\n",
    "                            linestyle=\"-\")\n",
    "        temp = int(str(row) + str(column)) + 1\n",
    "        ax[row, column].set_title(f'Range bin {temp}')\n",
    "\n",
    "for ax in ax.flat:\n",
    "    ax.label_outer()\n",
    "\n",
    "    "
   ],
   "id": "a292bf16dea772e6",
   "outputs": [],
   "execution_count": null
  },
  {
   "metadata": {},
   "cell_type": "markdown",
   "source": [
    "# 27/06/2024 notes\n",
    "- Try a rolling FFT window instead\n",
    "- Something about converting the time axes\n",
    "- Anything just in front of the radar is noise and can be discarded.    "
   ],
   "id": "b0c0bc6b7f82a26c"
  },
  {
   "metadata": {},
   "cell_type": "code",
   "source": [
    "# Investigating further range bins with a running window (5 - 10 seconds)\n",
    "bin_number = 35  # arbitrary range bin\n",
    "\n",
    "# using a short time Fourier transform\n",
    "T_x, N = 1 / 500, 31301  # 500 HZ sampling rate for a 62.602 s signal\n",
    "t_x = np.arange(N) * T_x  # time indices for signal\n",
    "bin_values = np.real(B500HZ[:, bin_number])  # the signal\n",
    "\n",
    "g_std = 64 # standard deviation for Gaussian window in samples\n",
    "w = gaussian(256, std=g_std, sym=True)  # symmetric Gaussian window (may try something else); 3-second window\n",
    "SFT = signal.ShortTimeFFT(w, hop=10, fs=1/T_x, mfft=4096, scale_to='magnitude')\n",
    "Sx = SFT.stft(bin_values)\n",
    "\n",
    "# plotting\n",
    "x10 = np.linspace(0, np.size(Sx, 0)-1, np.size(Sx, 0))\n",
    "\n",
    "fig2, axs2 = plt.subplots(1, 2, figsize=(16,6))\n",
    "\n",
    "axs2[0].plot(x9, bin_values, linewidth=0.05, color=\"red\")\n",
    "axs2[0].set_title(f'Range bin {bin_number}')\n",
    "\n",
    "axs2[1].plot(x10[160:], Sx[160:], linewidth=0.05, color=\"green\")\n",
    "axs2[1].set_title(f'Short-time Fourier Transform of range bin {bin_number}')"
   ],
   "id": "778b376ea328a11b",
   "outputs": [],
   "execution_count": null
  },
  {
   "metadata": {},
   "cell_type": "code",
   "source": [
    "# Dissecting the SFFT further, discarding the first discard_index values\n",
    "discard_index = 130  # discarding the 0.5-0.6m range which is dominated by noise\n",
    "x11 = np.linspace(discard_index, np.size(Sx, 0)-1, np.size(Sx, 0)-discard_index)\n",
    "rows = 24\n",
    "columns = 5\n",
    "fig3, ax3 = plt.subplots(rows, columns, figsize=(35, 56))\n",
    "starting_bin = 250\n",
    "for row in range(rows):\n",
    "    for column in range(columns):\n",
    "        ax3[row, column].plot(x11, Sx[discard_index:, starting_bin])\n",
    "        starting_bin += 1\n",
    "        ax3[row, column].set_title(f'STFT: Range bin {starting_bin}')\n",
    "\n",
    "for ax in ax3.flat:\n",
    "    ax.label_outer()\n"
   ],
   "id": "805e9d5c4e367e9",
   "outputs": [],
   "execution_count": null
  },
  {
   "metadata": {},
   "cell_type": "code",
   "source": [
    "# Applying a 4th-order Butterworth high-pass filter\n",
    "bin_number_hpf = 37\n",
    "hpf = signal.butter(4,  3, btype='highpass', output='sos', fs=500)\n",
    "sig = np.real(B500HZ[:, bin_number_hpf])\n",
    "\n",
    "B_hpf = signal.sosfilt(hpf, sig)\n",
    "x111 = np.linspace(0, np.size(B_hpf, 0), np.size(B_hpf, 0))\n",
    "\n",
    "plt.plot(x111[10:, ], B_hpf[10:], linewidth=0.15)\n",
    "plt.xlabel('Time')\n",
    "plt.ylabel('Amplitude')\n",
    "plt.title(f\"High-pass filter: bin {bin_number_hpf}\")\n",
    "plt.show()\n"
   ],
   "id": "6f8adee99d486b95",
   "outputs": [],
   "execution_count": null
  },
  {
   "metadata": {},
   "cell_type": "code",
   "source": [
    "# Running high pass filters on a set of range bins\n",
    "n = 20  # arbitrary starting bin\n",
    "rows_2 = 12\n",
    "columns_2 = 4\n",
    "fig6, ax6 = plt.subplots(rows_2, columns_2, figsize=(35, 56))\n",
    "\n",
    "# high-pass filter column by column and apply imshow to the entire matrix\n",
    "for row in range(rows_2):\n",
    "    for column in range(columns_2):\n",
    "        sig = np.real(B500HZ[:, n])\n",
    "        B_hpf = signal.sosfilt(hpf, sig)\n",
    "        # cutting off the samples close to the radar\n",
    "        ax6[row, column].plot(x111[60:,], B_hpf[60:,], linewidth=0.15)\n",
    "        n +=1\n",
    "        ax6[row, column].set_title(f'HPF: Range bin {n}')\n",
    "\n",
    "for ax in ax6.flat:\n",
    "    ax.label_outer()"
   ],
   "id": "42576bfe4d2d16d0",
   "outputs": [],
   "execution_count": null
  },
  {
   "metadata": {},
   "cell_type": "code",
   "source": "",
   "id": "8f37bf3ff910c28f",
   "outputs": [],
   "execution_count": null
  },
  {
   "metadata": {},
   "cell_type": "code",
   "source": "",
   "id": "3490ba547fd17d8b",
   "outputs": [],
   "execution_count": null
  },
  {
   "metadata": {},
   "cell_type": "code",
   "source": [
    "# Iterating through with a HPF\n",
    "matrix = np.real(B500HZ)\n",
    "for column in range(0, matrix.shape[1]):\n",
    "    matrix[:, column] = signal.sosfilt(hpf,  matrix[:, column])\n",
    "\n",
    "\n",
    "for i in range(3000, 30000, 99):\n",
    "    heatmap_plot(matrix[3000+i-99:3000+i, 10:109])\n",
    "\n",
    "\n",
    "\n",
    "\n",
    "\n"
   ],
   "id": "9973fdafba5a403",
   "outputs": [
    {
     "ename": "KeyboardInterrupt",
     "evalue": "",
     "output_type": "error",
     "traceback": [
      "\u001B[1;31m---------------------------------------------------------------------------\u001B[0m",
      "\u001B[1;31mKeyboardInterrupt\u001B[0m                         Traceback (most recent call last)",
      "Cell \u001B[1;32mIn[144], line 8\u001B[0m\n\u001B[0;32m      4\u001B[0m     matrix[:, column] \u001B[38;5;241m=\u001B[39m signal\u001B[38;5;241m.\u001B[39msosfilt(hpf,  matrix[:, column])\n\u001B[0;32m      7\u001B[0m \u001B[38;5;28;01mfor\u001B[39;00m i \u001B[38;5;129;01min\u001B[39;00m \u001B[38;5;28mrange\u001B[39m(\u001B[38;5;241m3000\u001B[39m, \u001B[38;5;241m30000\u001B[39m, \u001B[38;5;241m99\u001B[39m):\n\u001B[1;32m----> 8\u001B[0m     \u001B[43mheatmap_plot\u001B[49m\u001B[43m(\u001B[49m\u001B[43mmatrix\u001B[49m\u001B[43m[\u001B[49m\u001B[38;5;241;43m3000\u001B[39;49m\u001B[38;5;241;43m+\u001B[39;49m\u001B[43mi\u001B[49m\u001B[38;5;241;43m-\u001B[39;49m\u001B[38;5;241;43m99\u001B[39;49m\u001B[43m:\u001B[49m\u001B[38;5;241;43m3000\u001B[39;49m\u001B[38;5;241;43m+\u001B[39;49m\u001B[43mi\u001B[49m\u001B[43m,\u001B[49m\u001B[43m \u001B[49m\u001B[38;5;241;43m10\u001B[39;49m\u001B[43m:\u001B[49m\u001B[38;5;241;43m109\u001B[39;49m\u001B[43m]\u001B[49m\u001B[43m)\u001B[49m\n",
      "Cell \u001B[1;32mIn[127], line 24\u001B[0m, in \u001B[0;36mheatmap_plot\u001B[1;34m(matrix, cmap)\u001B[0m\n\u001B[0;32m     22\u001B[0m plt\u001B[38;5;241m.\u001B[39mimshow(matrix, cmap\u001B[38;5;241m=\u001B[39mcmap)\n\u001B[0;32m     23\u001B[0m plt\u001B[38;5;241m.\u001B[39mcolorbar()\n\u001B[1;32m---> 24\u001B[0m \u001B[43mplt\u001B[49m\u001B[38;5;241;43m.\u001B[39;49m\u001B[43mshow\u001B[49m\u001B[43m(\u001B[49m\u001B[43m)\u001B[49m\n",
      "File \u001B[1;32mD:\\Data Science\\UROP\\X4\\.venv\\Lib\\site-packages\\matplotlib\\pyplot.py:612\u001B[0m, in \u001B[0;36mshow\u001B[1;34m(*args, **kwargs)\u001B[0m\n\u001B[0;32m    568\u001B[0m \u001B[38;5;250m\u001B[39m\u001B[38;5;124;03m\"\"\"\u001B[39;00m\n\u001B[0;32m    569\u001B[0m \u001B[38;5;124;03mDisplay all open figures.\u001B[39;00m\n\u001B[0;32m    570\u001B[0m \n\u001B[1;32m   (...)\u001B[0m\n\u001B[0;32m    609\u001B[0m \u001B[38;5;124;03mexplicitly there.\u001B[39;00m\n\u001B[0;32m    610\u001B[0m \u001B[38;5;124;03m\"\"\"\u001B[39;00m\n\u001B[0;32m    611\u001B[0m _warn_if_gui_out_of_main_thread()\n\u001B[1;32m--> 612\u001B[0m \u001B[38;5;28;01mreturn\u001B[39;00m \u001B[43m_get_backend_mod\u001B[49m\u001B[43m(\u001B[49m\u001B[43m)\u001B[49m\u001B[38;5;241;43m.\u001B[39;49m\u001B[43mshow\u001B[49m\u001B[43m(\u001B[49m\u001B[38;5;241;43m*\u001B[39;49m\u001B[43margs\u001B[49m\u001B[43m,\u001B[49m\u001B[43m \u001B[49m\u001B[38;5;241;43m*\u001B[39;49m\u001B[38;5;241;43m*\u001B[39;49m\u001B[43mkwargs\u001B[49m\u001B[43m)\u001B[49m\n",
      "File \u001B[1;32mD:\\Data Science\\UROP\\X4\\.venv\\Lib\\site-packages\\matplotlib_inline\\backend_inline.py:90\u001B[0m, in \u001B[0;36mshow\u001B[1;34m(close, block)\u001B[0m\n\u001B[0;32m     88\u001B[0m \u001B[38;5;28;01mtry\u001B[39;00m:\n\u001B[0;32m     89\u001B[0m     \u001B[38;5;28;01mfor\u001B[39;00m figure_manager \u001B[38;5;129;01min\u001B[39;00m Gcf\u001B[38;5;241m.\u001B[39mget_all_fig_managers():\n\u001B[1;32m---> 90\u001B[0m         \u001B[43mdisplay\u001B[49m\u001B[43m(\u001B[49m\n\u001B[0;32m     91\u001B[0m \u001B[43m            \u001B[49m\u001B[43mfigure_manager\u001B[49m\u001B[38;5;241;43m.\u001B[39;49m\u001B[43mcanvas\u001B[49m\u001B[38;5;241;43m.\u001B[39;49m\u001B[43mfigure\u001B[49m\u001B[43m,\u001B[49m\n\u001B[0;32m     92\u001B[0m \u001B[43m            \u001B[49m\u001B[43mmetadata\u001B[49m\u001B[38;5;241;43m=\u001B[39;49m\u001B[43m_fetch_figure_metadata\u001B[49m\u001B[43m(\u001B[49m\u001B[43mfigure_manager\u001B[49m\u001B[38;5;241;43m.\u001B[39;49m\u001B[43mcanvas\u001B[49m\u001B[38;5;241;43m.\u001B[39;49m\u001B[43mfigure\u001B[49m\u001B[43m)\u001B[49m\n\u001B[0;32m     93\u001B[0m \u001B[43m        \u001B[49m\u001B[43m)\u001B[49m\n\u001B[0;32m     94\u001B[0m \u001B[38;5;28;01mfinally\u001B[39;00m:\n\u001B[0;32m     95\u001B[0m     show\u001B[38;5;241m.\u001B[39m_to_draw \u001B[38;5;241m=\u001B[39m []\n",
      "File \u001B[1;32mD:\\Data Science\\UROP\\X4\\.venv\\Lib\\site-packages\\IPython\\core\\display_functions.py:298\u001B[0m, in \u001B[0;36mdisplay\u001B[1;34m(include, exclude, metadata, transient, display_id, raw, clear, *objs, **kwargs)\u001B[0m\n\u001B[0;32m    296\u001B[0m     publish_display_data(data\u001B[38;5;241m=\u001B[39mobj, metadata\u001B[38;5;241m=\u001B[39mmetadata, \u001B[38;5;241m*\u001B[39m\u001B[38;5;241m*\u001B[39mkwargs)\n\u001B[0;32m    297\u001B[0m \u001B[38;5;28;01melse\u001B[39;00m:\n\u001B[1;32m--> 298\u001B[0m     format_dict, md_dict \u001B[38;5;241m=\u001B[39m \u001B[38;5;28;43mformat\u001B[39;49m\u001B[43m(\u001B[49m\u001B[43mobj\u001B[49m\u001B[43m,\u001B[49m\u001B[43m \u001B[49m\u001B[43minclude\u001B[49m\u001B[38;5;241;43m=\u001B[39;49m\u001B[43minclude\u001B[49m\u001B[43m,\u001B[49m\u001B[43m \u001B[49m\u001B[43mexclude\u001B[49m\u001B[38;5;241;43m=\u001B[39;49m\u001B[43mexclude\u001B[49m\u001B[43m)\u001B[49m\n\u001B[0;32m    299\u001B[0m     \u001B[38;5;28;01mif\u001B[39;00m \u001B[38;5;129;01mnot\u001B[39;00m format_dict:\n\u001B[0;32m    300\u001B[0m         \u001B[38;5;66;03m# nothing to display (e.g. _ipython_display_ took over)\u001B[39;00m\n\u001B[0;32m    301\u001B[0m         \u001B[38;5;28;01mcontinue\u001B[39;00m\n",
      "File \u001B[1;32mD:\\Data Science\\UROP\\X4\\.venv\\Lib\\site-packages\\IPython\\core\\formatters.py:182\u001B[0m, in \u001B[0;36mDisplayFormatter.format\u001B[1;34m(self, obj, include, exclude)\u001B[0m\n\u001B[0;32m    180\u001B[0m md \u001B[38;5;241m=\u001B[39m \u001B[38;5;28;01mNone\u001B[39;00m\n\u001B[0;32m    181\u001B[0m \u001B[38;5;28;01mtry\u001B[39;00m:\n\u001B[1;32m--> 182\u001B[0m     data \u001B[38;5;241m=\u001B[39m \u001B[43mformatter\u001B[49m\u001B[43m(\u001B[49m\u001B[43mobj\u001B[49m\u001B[43m)\u001B[49m\n\u001B[0;32m    183\u001B[0m \u001B[38;5;28;01mexcept\u001B[39;00m:\n\u001B[0;32m    184\u001B[0m     \u001B[38;5;66;03m# FIXME: log the exception\u001B[39;00m\n\u001B[0;32m    185\u001B[0m     \u001B[38;5;28;01mraise\u001B[39;00m\n",
      "File \u001B[1;32mD:\\Data Science\\UROP\\X4\\.venv\\Lib\\site-packages\\decorator.py:232\u001B[0m, in \u001B[0;36mdecorate.<locals>.fun\u001B[1;34m(*args, **kw)\u001B[0m\n\u001B[0;32m    230\u001B[0m \u001B[38;5;28;01mif\u001B[39;00m \u001B[38;5;129;01mnot\u001B[39;00m kwsyntax:\n\u001B[0;32m    231\u001B[0m     args, kw \u001B[38;5;241m=\u001B[39m fix(args, kw, sig)\n\u001B[1;32m--> 232\u001B[0m \u001B[38;5;28;01mreturn\u001B[39;00m \u001B[43mcaller\u001B[49m\u001B[43m(\u001B[49m\u001B[43mfunc\u001B[49m\u001B[43m,\u001B[49m\u001B[43m \u001B[49m\u001B[38;5;241;43m*\u001B[39;49m\u001B[43m(\u001B[49m\u001B[43mextras\u001B[49m\u001B[43m \u001B[49m\u001B[38;5;241;43m+\u001B[39;49m\u001B[43m \u001B[49m\u001B[43margs\u001B[49m\u001B[43m)\u001B[49m\u001B[43m,\u001B[49m\u001B[43m \u001B[49m\u001B[38;5;241;43m*\u001B[39;49m\u001B[38;5;241;43m*\u001B[39;49m\u001B[43mkw\u001B[49m\u001B[43m)\u001B[49m\n",
      "File \u001B[1;32mD:\\Data Science\\UROP\\X4\\.venv\\Lib\\site-packages\\IPython\\core\\formatters.py:226\u001B[0m, in \u001B[0;36mcatch_format_error\u001B[1;34m(method, self, *args, **kwargs)\u001B[0m\n\u001B[0;32m    224\u001B[0m \u001B[38;5;250m\u001B[39m\u001B[38;5;124;03m\"\"\"show traceback on failed format call\"\"\"\u001B[39;00m\n\u001B[0;32m    225\u001B[0m \u001B[38;5;28;01mtry\u001B[39;00m:\n\u001B[1;32m--> 226\u001B[0m     r \u001B[38;5;241m=\u001B[39m \u001B[43mmethod\u001B[49m\u001B[43m(\u001B[49m\u001B[38;5;28;43mself\u001B[39;49m\u001B[43m,\u001B[49m\u001B[43m \u001B[49m\u001B[38;5;241;43m*\u001B[39;49m\u001B[43margs\u001B[49m\u001B[43m,\u001B[49m\u001B[43m \u001B[49m\u001B[38;5;241;43m*\u001B[39;49m\u001B[38;5;241;43m*\u001B[39;49m\u001B[43mkwargs\u001B[49m\u001B[43m)\u001B[49m\n\u001B[0;32m    227\u001B[0m \u001B[38;5;28;01mexcept\u001B[39;00m \u001B[38;5;167;01mNotImplementedError\u001B[39;00m:\n\u001B[0;32m    228\u001B[0m     \u001B[38;5;66;03m# don't warn on NotImplementedErrors\u001B[39;00m\n\u001B[0;32m    229\u001B[0m     \u001B[38;5;28;01mreturn\u001B[39;00m \u001B[38;5;28mself\u001B[39m\u001B[38;5;241m.\u001B[39m_check_return(\u001B[38;5;28;01mNone\u001B[39;00m, args[\u001B[38;5;241m0\u001B[39m])\n",
      "File \u001B[1;32mD:\\Data Science\\UROP\\X4\\.venv\\Lib\\site-packages\\IPython\\core\\formatters.py:343\u001B[0m, in \u001B[0;36mBaseFormatter.__call__\u001B[1;34m(self, obj)\u001B[0m\n\u001B[0;32m    341\u001B[0m     \u001B[38;5;28;01mpass\u001B[39;00m\n\u001B[0;32m    342\u001B[0m \u001B[38;5;28;01melse\u001B[39;00m:\n\u001B[1;32m--> 343\u001B[0m     \u001B[38;5;28;01mreturn\u001B[39;00m \u001B[43mprinter\u001B[49m\u001B[43m(\u001B[49m\u001B[43mobj\u001B[49m\u001B[43m)\u001B[49m\n\u001B[0;32m    344\u001B[0m \u001B[38;5;66;03m# Finally look for special method names\u001B[39;00m\n\u001B[0;32m    345\u001B[0m method \u001B[38;5;241m=\u001B[39m get_real_method(obj, \u001B[38;5;28mself\u001B[39m\u001B[38;5;241m.\u001B[39mprint_method)\n",
      "File \u001B[1;32mD:\\Data Science\\UROP\\X4\\.venv\\Lib\\site-packages\\IPython\\core\\pylabtools.py:170\u001B[0m, in \u001B[0;36mprint_figure\u001B[1;34m(fig, fmt, bbox_inches, base64, **kwargs)\u001B[0m\n\u001B[0;32m    167\u001B[0m     \u001B[38;5;28;01mfrom\u001B[39;00m \u001B[38;5;21;01mmatplotlib\u001B[39;00m\u001B[38;5;21;01m.\u001B[39;00m\u001B[38;5;21;01mbackend_bases\u001B[39;00m \u001B[38;5;28;01mimport\u001B[39;00m FigureCanvasBase\n\u001B[0;32m    168\u001B[0m     FigureCanvasBase(fig)\n\u001B[1;32m--> 170\u001B[0m \u001B[43mfig\u001B[49m\u001B[38;5;241;43m.\u001B[39;49m\u001B[43mcanvas\u001B[49m\u001B[38;5;241;43m.\u001B[39;49m\u001B[43mprint_figure\u001B[49m\u001B[43m(\u001B[49m\u001B[43mbytes_io\u001B[49m\u001B[43m,\u001B[49m\u001B[43m \u001B[49m\u001B[38;5;241;43m*\u001B[39;49m\u001B[38;5;241;43m*\u001B[39;49m\u001B[43mkw\u001B[49m\u001B[43m)\u001B[49m\n\u001B[0;32m    171\u001B[0m data \u001B[38;5;241m=\u001B[39m bytes_io\u001B[38;5;241m.\u001B[39mgetvalue()\n\u001B[0;32m    172\u001B[0m \u001B[38;5;28;01mif\u001B[39;00m fmt \u001B[38;5;241m==\u001B[39m \u001B[38;5;124m'\u001B[39m\u001B[38;5;124msvg\u001B[39m\u001B[38;5;124m'\u001B[39m:\n",
      "File \u001B[1;32mD:\\Data Science\\UROP\\X4\\.venv\\Lib\\site-packages\\matplotlib\\backend_bases.py:2204\u001B[0m, in \u001B[0;36mFigureCanvasBase.print_figure\u001B[1;34m(self, filename, dpi, facecolor, edgecolor, orientation, format, bbox_inches, pad_inches, bbox_extra_artists, backend, **kwargs)\u001B[0m\n\u001B[0;32m   2200\u001B[0m \u001B[38;5;28;01mtry\u001B[39;00m:\n\u001B[0;32m   2201\u001B[0m     \u001B[38;5;66;03m# _get_renderer may change the figure dpi (as vector formats\u001B[39;00m\n\u001B[0;32m   2202\u001B[0m     \u001B[38;5;66;03m# force the figure dpi to 72), so we need to set it again here.\u001B[39;00m\n\u001B[0;32m   2203\u001B[0m     \u001B[38;5;28;01mwith\u001B[39;00m cbook\u001B[38;5;241m.\u001B[39m_setattr_cm(\u001B[38;5;28mself\u001B[39m\u001B[38;5;241m.\u001B[39mfigure, dpi\u001B[38;5;241m=\u001B[39mdpi):\n\u001B[1;32m-> 2204\u001B[0m         result \u001B[38;5;241m=\u001B[39m \u001B[43mprint_method\u001B[49m\u001B[43m(\u001B[49m\n\u001B[0;32m   2205\u001B[0m \u001B[43m            \u001B[49m\u001B[43mfilename\u001B[49m\u001B[43m,\u001B[49m\n\u001B[0;32m   2206\u001B[0m \u001B[43m            \u001B[49m\u001B[43mfacecolor\u001B[49m\u001B[38;5;241;43m=\u001B[39;49m\u001B[43mfacecolor\u001B[49m\u001B[43m,\u001B[49m\n\u001B[0;32m   2207\u001B[0m \u001B[43m            \u001B[49m\u001B[43medgecolor\u001B[49m\u001B[38;5;241;43m=\u001B[39;49m\u001B[43medgecolor\u001B[49m\u001B[43m,\u001B[49m\n\u001B[0;32m   2208\u001B[0m \u001B[43m            \u001B[49m\u001B[43morientation\u001B[49m\u001B[38;5;241;43m=\u001B[39;49m\u001B[43morientation\u001B[49m\u001B[43m,\u001B[49m\n\u001B[0;32m   2209\u001B[0m \u001B[43m            \u001B[49m\u001B[43mbbox_inches_restore\u001B[49m\u001B[38;5;241;43m=\u001B[39;49m\u001B[43m_bbox_inches_restore\u001B[49m\u001B[43m,\u001B[49m\n\u001B[0;32m   2210\u001B[0m \u001B[43m            \u001B[49m\u001B[38;5;241;43m*\u001B[39;49m\u001B[38;5;241;43m*\u001B[39;49m\u001B[43mkwargs\u001B[49m\u001B[43m)\u001B[49m\n\u001B[0;32m   2211\u001B[0m \u001B[38;5;28;01mfinally\u001B[39;00m:\n\u001B[0;32m   2212\u001B[0m     \u001B[38;5;28;01mif\u001B[39;00m bbox_inches \u001B[38;5;129;01mand\u001B[39;00m restore_bbox:\n",
      "File \u001B[1;32mD:\\Data Science\\UROP\\X4\\.venv\\Lib\\site-packages\\matplotlib\\backend_bases.py:2054\u001B[0m, in \u001B[0;36mFigureCanvasBase._switch_canvas_and_return_print_method.<locals>.<lambda>\u001B[1;34m(*args, **kwargs)\u001B[0m\n\u001B[0;32m   2050\u001B[0m     optional_kws \u001B[38;5;241m=\u001B[39m {  \u001B[38;5;66;03m# Passed by print_figure for other renderers.\u001B[39;00m\n\u001B[0;32m   2051\u001B[0m         \u001B[38;5;124m\"\u001B[39m\u001B[38;5;124mdpi\u001B[39m\u001B[38;5;124m\"\u001B[39m, \u001B[38;5;124m\"\u001B[39m\u001B[38;5;124mfacecolor\u001B[39m\u001B[38;5;124m\"\u001B[39m, \u001B[38;5;124m\"\u001B[39m\u001B[38;5;124medgecolor\u001B[39m\u001B[38;5;124m\"\u001B[39m, \u001B[38;5;124m\"\u001B[39m\u001B[38;5;124morientation\u001B[39m\u001B[38;5;124m\"\u001B[39m,\n\u001B[0;32m   2052\u001B[0m         \u001B[38;5;124m\"\u001B[39m\u001B[38;5;124mbbox_inches_restore\u001B[39m\u001B[38;5;124m\"\u001B[39m}\n\u001B[0;32m   2053\u001B[0m     skip \u001B[38;5;241m=\u001B[39m optional_kws \u001B[38;5;241m-\u001B[39m {\u001B[38;5;241m*\u001B[39minspect\u001B[38;5;241m.\u001B[39msignature(meth)\u001B[38;5;241m.\u001B[39mparameters}\n\u001B[1;32m-> 2054\u001B[0m     print_method \u001B[38;5;241m=\u001B[39m functools\u001B[38;5;241m.\u001B[39mwraps(meth)(\u001B[38;5;28;01mlambda\u001B[39;00m \u001B[38;5;241m*\u001B[39margs, \u001B[38;5;241m*\u001B[39m\u001B[38;5;241m*\u001B[39mkwargs: \u001B[43mmeth\u001B[49m\u001B[43m(\u001B[49m\n\u001B[0;32m   2055\u001B[0m \u001B[43m        \u001B[49m\u001B[38;5;241;43m*\u001B[39;49m\u001B[43margs\u001B[49m\u001B[43m,\u001B[49m\u001B[43m \u001B[49m\u001B[38;5;241;43m*\u001B[39;49m\u001B[38;5;241;43m*\u001B[39;49m\u001B[43m{\u001B[49m\u001B[43mk\u001B[49m\u001B[43m:\u001B[49m\u001B[43m \u001B[49m\u001B[43mv\u001B[49m\u001B[43m \u001B[49m\u001B[38;5;28;43;01mfor\u001B[39;49;00m\u001B[43m \u001B[49m\u001B[43mk\u001B[49m\u001B[43m,\u001B[49m\u001B[43m \u001B[49m\u001B[43mv\u001B[49m\u001B[43m \u001B[49m\u001B[38;5;129;43;01min\u001B[39;49;00m\u001B[43m \u001B[49m\u001B[43mkwargs\u001B[49m\u001B[38;5;241;43m.\u001B[39;49m\u001B[43mitems\u001B[49m\u001B[43m(\u001B[49m\u001B[43m)\u001B[49m\u001B[43m \u001B[49m\u001B[38;5;28;43;01mif\u001B[39;49;00m\u001B[43m \u001B[49m\u001B[43mk\u001B[49m\u001B[43m \u001B[49m\u001B[38;5;129;43;01mnot\u001B[39;49;00m\u001B[43m \u001B[49m\u001B[38;5;129;43;01min\u001B[39;49;00m\u001B[43m \u001B[49m\u001B[43mskip\u001B[49m\u001B[43m}\u001B[49m\u001B[43m)\u001B[49m)\n\u001B[0;32m   2056\u001B[0m \u001B[38;5;28;01melse\u001B[39;00m:  \u001B[38;5;66;03m# Let third-parties do as they see fit.\u001B[39;00m\n\u001B[0;32m   2057\u001B[0m     print_method \u001B[38;5;241m=\u001B[39m meth\n",
      "File \u001B[1;32mD:\\Data Science\\UROP\\X4\\.venv\\Lib\\site-packages\\matplotlib\\backends\\backend_agg.py:496\u001B[0m, in \u001B[0;36mFigureCanvasAgg.print_png\u001B[1;34m(self, filename_or_obj, metadata, pil_kwargs)\u001B[0m\n\u001B[0;32m    449\u001B[0m \u001B[38;5;28;01mdef\u001B[39;00m \u001B[38;5;21mprint_png\u001B[39m(\u001B[38;5;28mself\u001B[39m, filename_or_obj, \u001B[38;5;241m*\u001B[39m, metadata\u001B[38;5;241m=\u001B[39m\u001B[38;5;28;01mNone\u001B[39;00m, pil_kwargs\u001B[38;5;241m=\u001B[39m\u001B[38;5;28;01mNone\u001B[39;00m):\n\u001B[0;32m    450\u001B[0m \u001B[38;5;250m    \u001B[39m\u001B[38;5;124;03m\"\"\"\u001B[39;00m\n\u001B[0;32m    451\u001B[0m \u001B[38;5;124;03m    Write the figure to a PNG file.\u001B[39;00m\n\u001B[0;32m    452\u001B[0m \n\u001B[1;32m   (...)\u001B[0m\n\u001B[0;32m    494\u001B[0m \u001B[38;5;124;03m        *metadata*, including the default 'Software' key.\u001B[39;00m\n\u001B[0;32m    495\u001B[0m \u001B[38;5;124;03m    \"\"\"\u001B[39;00m\n\u001B[1;32m--> 496\u001B[0m     \u001B[38;5;28;43mself\u001B[39;49m\u001B[38;5;241;43m.\u001B[39;49m\u001B[43m_print_pil\u001B[49m\u001B[43m(\u001B[49m\u001B[43mfilename_or_obj\u001B[49m\u001B[43m,\u001B[49m\u001B[43m \u001B[49m\u001B[38;5;124;43m\"\u001B[39;49m\u001B[38;5;124;43mpng\u001B[39;49m\u001B[38;5;124;43m\"\u001B[39;49m\u001B[43m,\u001B[49m\u001B[43m \u001B[49m\u001B[43mpil_kwargs\u001B[49m\u001B[43m,\u001B[49m\u001B[43m \u001B[49m\u001B[43mmetadata\u001B[49m\u001B[43m)\u001B[49m\n",
      "File \u001B[1;32mD:\\Data Science\\UROP\\X4\\.venv\\Lib\\site-packages\\matplotlib\\backends\\backend_agg.py:444\u001B[0m, in \u001B[0;36mFigureCanvasAgg._print_pil\u001B[1;34m(self, filename_or_obj, fmt, pil_kwargs, metadata)\u001B[0m\n\u001B[0;32m    439\u001B[0m \u001B[38;5;28;01mdef\u001B[39;00m \u001B[38;5;21m_print_pil\u001B[39m(\u001B[38;5;28mself\u001B[39m, filename_or_obj, fmt, pil_kwargs, metadata\u001B[38;5;241m=\u001B[39m\u001B[38;5;28;01mNone\u001B[39;00m):\n\u001B[0;32m    440\u001B[0m \u001B[38;5;250m    \u001B[39m\u001B[38;5;124;03m\"\"\"\u001B[39;00m\n\u001B[0;32m    441\u001B[0m \u001B[38;5;124;03m    Draw the canvas, then save it using `.image.imsave` (to which\u001B[39;00m\n\u001B[0;32m    442\u001B[0m \u001B[38;5;124;03m    *pil_kwargs* and *metadata* are forwarded).\u001B[39;00m\n\u001B[0;32m    443\u001B[0m \u001B[38;5;124;03m    \"\"\"\u001B[39;00m\n\u001B[1;32m--> 444\u001B[0m     \u001B[43mFigureCanvasAgg\u001B[49m\u001B[38;5;241;43m.\u001B[39;49m\u001B[43mdraw\u001B[49m\u001B[43m(\u001B[49m\u001B[38;5;28;43mself\u001B[39;49m\u001B[43m)\u001B[49m\n\u001B[0;32m    445\u001B[0m     mpl\u001B[38;5;241m.\u001B[39mimage\u001B[38;5;241m.\u001B[39mimsave(\n\u001B[0;32m    446\u001B[0m         filename_or_obj, \u001B[38;5;28mself\u001B[39m\u001B[38;5;241m.\u001B[39mbuffer_rgba(), \u001B[38;5;28mformat\u001B[39m\u001B[38;5;241m=\u001B[39mfmt, origin\u001B[38;5;241m=\u001B[39m\u001B[38;5;124m\"\u001B[39m\u001B[38;5;124mupper\u001B[39m\u001B[38;5;124m\"\u001B[39m,\n\u001B[0;32m    447\u001B[0m         dpi\u001B[38;5;241m=\u001B[39m\u001B[38;5;28mself\u001B[39m\u001B[38;5;241m.\u001B[39mfigure\u001B[38;5;241m.\u001B[39mdpi, metadata\u001B[38;5;241m=\u001B[39mmetadata, pil_kwargs\u001B[38;5;241m=\u001B[39mpil_kwargs)\n",
      "File \u001B[1;32mD:\\Data Science\\UROP\\X4\\.venv\\Lib\\site-packages\\matplotlib\\backends\\backend_agg.py:387\u001B[0m, in \u001B[0;36mFigureCanvasAgg.draw\u001B[1;34m(self)\u001B[0m\n\u001B[0;32m    384\u001B[0m \u001B[38;5;66;03m# Acquire a lock on the shared font cache.\u001B[39;00m\n\u001B[0;32m    385\u001B[0m \u001B[38;5;28;01mwith\u001B[39;00m (\u001B[38;5;28mself\u001B[39m\u001B[38;5;241m.\u001B[39mtoolbar\u001B[38;5;241m.\u001B[39m_wait_cursor_for_draw_cm() \u001B[38;5;28;01mif\u001B[39;00m \u001B[38;5;28mself\u001B[39m\u001B[38;5;241m.\u001B[39mtoolbar\n\u001B[0;32m    386\u001B[0m       \u001B[38;5;28;01melse\u001B[39;00m nullcontext()):\n\u001B[1;32m--> 387\u001B[0m     \u001B[38;5;28;43mself\u001B[39;49m\u001B[38;5;241;43m.\u001B[39;49m\u001B[43mfigure\u001B[49m\u001B[38;5;241;43m.\u001B[39;49m\u001B[43mdraw\u001B[49m\u001B[43m(\u001B[49m\u001B[38;5;28;43mself\u001B[39;49m\u001B[38;5;241;43m.\u001B[39;49m\u001B[43mrenderer\u001B[49m\u001B[43m)\u001B[49m\n\u001B[0;32m    388\u001B[0m     \u001B[38;5;66;03m# A GUI class may be need to update a window using this draw, so\u001B[39;00m\n\u001B[0;32m    389\u001B[0m     \u001B[38;5;66;03m# don't forget to call the superclass.\u001B[39;00m\n\u001B[0;32m    390\u001B[0m     \u001B[38;5;28msuper\u001B[39m()\u001B[38;5;241m.\u001B[39mdraw()\n",
      "File \u001B[1;32mD:\\Data Science\\UROP\\X4\\.venv\\Lib\\site-packages\\matplotlib\\artist.py:95\u001B[0m, in \u001B[0;36m_finalize_rasterization.<locals>.draw_wrapper\u001B[1;34m(artist, renderer, *args, **kwargs)\u001B[0m\n\u001B[0;32m     93\u001B[0m \u001B[38;5;129m@wraps\u001B[39m(draw)\n\u001B[0;32m     94\u001B[0m \u001B[38;5;28;01mdef\u001B[39;00m \u001B[38;5;21mdraw_wrapper\u001B[39m(artist, renderer, \u001B[38;5;241m*\u001B[39margs, \u001B[38;5;241m*\u001B[39m\u001B[38;5;241m*\u001B[39mkwargs):\n\u001B[1;32m---> 95\u001B[0m     result \u001B[38;5;241m=\u001B[39m \u001B[43mdraw\u001B[49m\u001B[43m(\u001B[49m\u001B[43martist\u001B[49m\u001B[43m,\u001B[49m\u001B[43m \u001B[49m\u001B[43mrenderer\u001B[49m\u001B[43m,\u001B[49m\u001B[43m \u001B[49m\u001B[38;5;241;43m*\u001B[39;49m\u001B[43margs\u001B[49m\u001B[43m,\u001B[49m\u001B[43m \u001B[49m\u001B[38;5;241;43m*\u001B[39;49m\u001B[38;5;241;43m*\u001B[39;49m\u001B[43mkwargs\u001B[49m\u001B[43m)\u001B[49m\n\u001B[0;32m     96\u001B[0m     \u001B[38;5;28;01mif\u001B[39;00m renderer\u001B[38;5;241m.\u001B[39m_rasterizing:\n\u001B[0;32m     97\u001B[0m         renderer\u001B[38;5;241m.\u001B[39mstop_rasterizing()\n",
      "File \u001B[1;32mD:\\Data Science\\UROP\\X4\\.venv\\Lib\\site-packages\\matplotlib\\artist.py:72\u001B[0m, in \u001B[0;36mallow_rasterization.<locals>.draw_wrapper\u001B[1;34m(artist, renderer)\u001B[0m\n\u001B[0;32m     69\u001B[0m     \u001B[38;5;28;01mif\u001B[39;00m artist\u001B[38;5;241m.\u001B[39mget_agg_filter() \u001B[38;5;129;01mis\u001B[39;00m \u001B[38;5;129;01mnot\u001B[39;00m \u001B[38;5;28;01mNone\u001B[39;00m:\n\u001B[0;32m     70\u001B[0m         renderer\u001B[38;5;241m.\u001B[39mstart_filter()\n\u001B[1;32m---> 72\u001B[0m     \u001B[38;5;28;01mreturn\u001B[39;00m \u001B[43mdraw\u001B[49m\u001B[43m(\u001B[49m\u001B[43martist\u001B[49m\u001B[43m,\u001B[49m\u001B[43m \u001B[49m\u001B[43mrenderer\u001B[49m\u001B[43m)\u001B[49m\n\u001B[0;32m     73\u001B[0m \u001B[38;5;28;01mfinally\u001B[39;00m:\n\u001B[0;32m     74\u001B[0m     \u001B[38;5;28;01mif\u001B[39;00m artist\u001B[38;5;241m.\u001B[39mget_agg_filter() \u001B[38;5;129;01mis\u001B[39;00m \u001B[38;5;129;01mnot\u001B[39;00m \u001B[38;5;28;01mNone\u001B[39;00m:\n",
      "File \u001B[1;32mD:\\Data Science\\UROP\\X4\\.venv\\Lib\\site-packages\\matplotlib\\figure.py:3162\u001B[0m, in \u001B[0;36mFigure.draw\u001B[1;34m(self, renderer)\u001B[0m\n\u001B[0;32m   3159\u001B[0m             \u001B[38;5;66;03m# ValueError can occur when resizing a window.\u001B[39;00m\n\u001B[0;32m   3161\u001B[0m     \u001B[38;5;28mself\u001B[39m\u001B[38;5;241m.\u001B[39mpatch\u001B[38;5;241m.\u001B[39mdraw(renderer)\n\u001B[1;32m-> 3162\u001B[0m     \u001B[43mmimage\u001B[49m\u001B[38;5;241;43m.\u001B[39;49m\u001B[43m_draw_list_compositing_images\u001B[49m\u001B[43m(\u001B[49m\n\u001B[0;32m   3163\u001B[0m \u001B[43m        \u001B[49m\u001B[43mrenderer\u001B[49m\u001B[43m,\u001B[49m\u001B[43m \u001B[49m\u001B[38;5;28;43mself\u001B[39;49m\u001B[43m,\u001B[49m\u001B[43m \u001B[49m\u001B[43martists\u001B[49m\u001B[43m,\u001B[49m\u001B[43m \u001B[49m\u001B[38;5;28;43mself\u001B[39;49m\u001B[38;5;241;43m.\u001B[39;49m\u001B[43msuppressComposite\u001B[49m\u001B[43m)\u001B[49m\n\u001B[0;32m   3165\u001B[0m     renderer\u001B[38;5;241m.\u001B[39mclose_group(\u001B[38;5;124m'\u001B[39m\u001B[38;5;124mfigure\u001B[39m\u001B[38;5;124m'\u001B[39m)\n\u001B[0;32m   3166\u001B[0m \u001B[38;5;28;01mfinally\u001B[39;00m:\n",
      "File \u001B[1;32mD:\\Data Science\\UROP\\X4\\.venv\\Lib\\site-packages\\matplotlib\\image.py:132\u001B[0m, in \u001B[0;36m_draw_list_compositing_images\u001B[1;34m(renderer, parent, artists, suppress_composite)\u001B[0m\n\u001B[0;32m    130\u001B[0m \u001B[38;5;28;01mif\u001B[39;00m not_composite \u001B[38;5;129;01mor\u001B[39;00m \u001B[38;5;129;01mnot\u001B[39;00m has_images:\n\u001B[0;32m    131\u001B[0m     \u001B[38;5;28;01mfor\u001B[39;00m a \u001B[38;5;129;01min\u001B[39;00m artists:\n\u001B[1;32m--> 132\u001B[0m         \u001B[43ma\u001B[49m\u001B[38;5;241;43m.\u001B[39;49m\u001B[43mdraw\u001B[49m\u001B[43m(\u001B[49m\u001B[43mrenderer\u001B[49m\u001B[43m)\u001B[49m\n\u001B[0;32m    133\u001B[0m \u001B[38;5;28;01melse\u001B[39;00m:\n\u001B[0;32m    134\u001B[0m     \u001B[38;5;66;03m# Composite any adjacent images together\u001B[39;00m\n\u001B[0;32m    135\u001B[0m     image_group \u001B[38;5;241m=\u001B[39m []\n",
      "File \u001B[1;32mD:\\Data Science\\UROP\\X4\\.venv\\Lib\\site-packages\\matplotlib\\artist.py:72\u001B[0m, in \u001B[0;36mallow_rasterization.<locals>.draw_wrapper\u001B[1;34m(artist, renderer)\u001B[0m\n\u001B[0;32m     69\u001B[0m     \u001B[38;5;28;01mif\u001B[39;00m artist\u001B[38;5;241m.\u001B[39mget_agg_filter() \u001B[38;5;129;01mis\u001B[39;00m \u001B[38;5;129;01mnot\u001B[39;00m \u001B[38;5;28;01mNone\u001B[39;00m:\n\u001B[0;32m     70\u001B[0m         renderer\u001B[38;5;241m.\u001B[39mstart_filter()\n\u001B[1;32m---> 72\u001B[0m     \u001B[38;5;28;01mreturn\u001B[39;00m \u001B[43mdraw\u001B[49m\u001B[43m(\u001B[49m\u001B[43martist\u001B[49m\u001B[43m,\u001B[49m\u001B[43m \u001B[49m\u001B[43mrenderer\u001B[49m\u001B[43m)\u001B[49m\n\u001B[0;32m     73\u001B[0m \u001B[38;5;28;01mfinally\u001B[39;00m:\n\u001B[0;32m     74\u001B[0m     \u001B[38;5;28;01mif\u001B[39;00m artist\u001B[38;5;241m.\u001B[39mget_agg_filter() \u001B[38;5;129;01mis\u001B[39;00m \u001B[38;5;129;01mnot\u001B[39;00m \u001B[38;5;28;01mNone\u001B[39;00m:\n",
      "File \u001B[1;32mD:\\Data Science\\UROP\\X4\\.venv\\Lib\\site-packages\\matplotlib\\axes\\_base.py:3143\u001B[0m, in \u001B[0;36m_AxesBase.draw\u001B[1;34m(self, renderer)\u001B[0m\n\u001B[0;32m   3140\u001B[0m \u001B[38;5;28;01mif\u001B[39;00m artists_rasterized:\n\u001B[0;32m   3141\u001B[0m     _draw_rasterized(\u001B[38;5;28mself\u001B[39m\u001B[38;5;241m.\u001B[39mfigure, artists_rasterized, renderer)\n\u001B[1;32m-> 3143\u001B[0m \u001B[43mmimage\u001B[49m\u001B[38;5;241;43m.\u001B[39;49m\u001B[43m_draw_list_compositing_images\u001B[49m\u001B[43m(\u001B[49m\n\u001B[0;32m   3144\u001B[0m \u001B[43m    \u001B[49m\u001B[43mrenderer\u001B[49m\u001B[43m,\u001B[49m\u001B[43m \u001B[49m\u001B[38;5;28;43mself\u001B[39;49m\u001B[43m,\u001B[49m\u001B[43m \u001B[49m\u001B[43martists\u001B[49m\u001B[43m,\u001B[49m\u001B[43m \u001B[49m\u001B[38;5;28;43mself\u001B[39;49m\u001B[38;5;241;43m.\u001B[39;49m\u001B[43mfigure\u001B[49m\u001B[38;5;241;43m.\u001B[39;49m\u001B[43msuppressComposite\u001B[49m\u001B[43m)\u001B[49m\n\u001B[0;32m   3146\u001B[0m renderer\u001B[38;5;241m.\u001B[39mclose_group(\u001B[38;5;124m'\u001B[39m\u001B[38;5;124maxes\u001B[39m\u001B[38;5;124m'\u001B[39m)\n\u001B[0;32m   3147\u001B[0m \u001B[38;5;28mself\u001B[39m\u001B[38;5;241m.\u001B[39mstale \u001B[38;5;241m=\u001B[39m \u001B[38;5;28;01mFalse\u001B[39;00m\n",
      "File \u001B[1;32mD:\\Data Science\\UROP\\X4\\.venv\\Lib\\site-packages\\matplotlib\\image.py:132\u001B[0m, in \u001B[0;36m_draw_list_compositing_images\u001B[1;34m(renderer, parent, artists, suppress_composite)\u001B[0m\n\u001B[0;32m    130\u001B[0m \u001B[38;5;28;01mif\u001B[39;00m not_composite \u001B[38;5;129;01mor\u001B[39;00m \u001B[38;5;129;01mnot\u001B[39;00m has_images:\n\u001B[0;32m    131\u001B[0m     \u001B[38;5;28;01mfor\u001B[39;00m a \u001B[38;5;129;01min\u001B[39;00m artists:\n\u001B[1;32m--> 132\u001B[0m         \u001B[43ma\u001B[49m\u001B[38;5;241;43m.\u001B[39;49m\u001B[43mdraw\u001B[49m\u001B[43m(\u001B[49m\u001B[43mrenderer\u001B[49m\u001B[43m)\u001B[49m\n\u001B[0;32m    133\u001B[0m \u001B[38;5;28;01melse\u001B[39;00m:\n\u001B[0;32m    134\u001B[0m     \u001B[38;5;66;03m# Composite any adjacent images together\u001B[39;00m\n\u001B[0;32m    135\u001B[0m     image_group \u001B[38;5;241m=\u001B[39m []\n",
      "File \u001B[1;32mD:\\Data Science\\UROP\\X4\\.venv\\Lib\\site-packages\\matplotlib\\artist.py:72\u001B[0m, in \u001B[0;36mallow_rasterization.<locals>.draw_wrapper\u001B[1;34m(artist, renderer)\u001B[0m\n\u001B[0;32m     69\u001B[0m     \u001B[38;5;28;01mif\u001B[39;00m artist\u001B[38;5;241m.\u001B[39mget_agg_filter() \u001B[38;5;129;01mis\u001B[39;00m \u001B[38;5;129;01mnot\u001B[39;00m \u001B[38;5;28;01mNone\u001B[39;00m:\n\u001B[0;32m     70\u001B[0m         renderer\u001B[38;5;241m.\u001B[39mstart_filter()\n\u001B[1;32m---> 72\u001B[0m     \u001B[38;5;28;01mreturn\u001B[39;00m \u001B[43mdraw\u001B[49m\u001B[43m(\u001B[49m\u001B[43martist\u001B[49m\u001B[43m,\u001B[49m\u001B[43m \u001B[49m\u001B[43mrenderer\u001B[49m\u001B[43m)\u001B[49m\n\u001B[0;32m     73\u001B[0m \u001B[38;5;28;01mfinally\u001B[39;00m:\n\u001B[0;32m     74\u001B[0m     \u001B[38;5;28;01mif\u001B[39;00m artist\u001B[38;5;241m.\u001B[39mget_agg_filter() \u001B[38;5;129;01mis\u001B[39;00m \u001B[38;5;129;01mnot\u001B[39;00m \u001B[38;5;28;01mNone\u001B[39;00m:\n",
      "File \u001B[1;32mD:\\Data Science\\UROP\\X4\\.venv\\Lib\\site-packages\\matplotlib\\image.py:653\u001B[0m, in \u001B[0;36m_ImageBase.draw\u001B[1;34m(self, renderer)\u001B[0m\n\u001B[0;32m    651\u001B[0m         renderer\u001B[38;5;241m.\u001B[39mdraw_image(gc, l, b, im, trans)\n\u001B[0;32m    652\u001B[0m \u001B[38;5;28;01melse\u001B[39;00m:\n\u001B[1;32m--> 653\u001B[0m     im, l, b, trans \u001B[38;5;241m=\u001B[39m \u001B[38;5;28;43mself\u001B[39;49m\u001B[38;5;241;43m.\u001B[39;49m\u001B[43mmake_image\u001B[49m\u001B[43m(\u001B[49m\n\u001B[0;32m    654\u001B[0m \u001B[43m        \u001B[49m\u001B[43mrenderer\u001B[49m\u001B[43m,\u001B[49m\u001B[43m \u001B[49m\u001B[43mrenderer\u001B[49m\u001B[38;5;241;43m.\u001B[39;49m\u001B[43mget_image_magnification\u001B[49m\u001B[43m(\u001B[49m\u001B[43m)\u001B[49m\u001B[43m)\u001B[49m\n\u001B[0;32m    655\u001B[0m     \u001B[38;5;28;01mif\u001B[39;00m im \u001B[38;5;129;01mis\u001B[39;00m \u001B[38;5;129;01mnot\u001B[39;00m \u001B[38;5;28;01mNone\u001B[39;00m:\n\u001B[0;32m    656\u001B[0m         renderer\u001B[38;5;241m.\u001B[39mdraw_image(gc, l, b, im)\n",
      "File \u001B[1;32mD:\\Data Science\\UROP\\X4\\.venv\\Lib\\site-packages\\matplotlib\\image.py:952\u001B[0m, in \u001B[0;36mAxesImage.make_image\u001B[1;34m(self, renderer, magnification, unsampled)\u001B[0m\n\u001B[0;32m    949\u001B[0m transformed_bbox \u001B[38;5;241m=\u001B[39m TransformedBbox(bbox, trans)\n\u001B[0;32m    950\u001B[0m clip \u001B[38;5;241m=\u001B[39m ((\u001B[38;5;28mself\u001B[39m\u001B[38;5;241m.\u001B[39mget_clip_box() \u001B[38;5;129;01mor\u001B[39;00m \u001B[38;5;28mself\u001B[39m\u001B[38;5;241m.\u001B[39maxes\u001B[38;5;241m.\u001B[39mbbox) \u001B[38;5;28;01mif\u001B[39;00m \u001B[38;5;28mself\u001B[39m\u001B[38;5;241m.\u001B[39mget_clip_on()\n\u001B[0;32m    951\u001B[0m         \u001B[38;5;28;01melse\u001B[39;00m \u001B[38;5;28mself\u001B[39m\u001B[38;5;241m.\u001B[39mfigure\u001B[38;5;241m.\u001B[39mbbox)\n\u001B[1;32m--> 952\u001B[0m \u001B[38;5;28;01mreturn\u001B[39;00m \u001B[38;5;28;43mself\u001B[39;49m\u001B[38;5;241;43m.\u001B[39;49m\u001B[43m_make_image\u001B[49m\u001B[43m(\u001B[49m\u001B[38;5;28;43mself\u001B[39;49m\u001B[38;5;241;43m.\u001B[39;49m\u001B[43m_A\u001B[49m\u001B[43m,\u001B[49m\u001B[43m \u001B[49m\u001B[43mbbox\u001B[49m\u001B[43m,\u001B[49m\u001B[43m \u001B[49m\u001B[43mtransformed_bbox\u001B[49m\u001B[43m,\u001B[49m\u001B[43m \u001B[49m\u001B[43mclip\u001B[49m\u001B[43m,\u001B[49m\n\u001B[0;32m    953\u001B[0m \u001B[43m                        \u001B[49m\u001B[43mmagnification\u001B[49m\u001B[43m,\u001B[49m\u001B[43m \u001B[49m\u001B[43munsampled\u001B[49m\u001B[38;5;241;43m=\u001B[39;49m\u001B[43munsampled\u001B[49m\u001B[43m)\u001B[49m\n",
      "File \u001B[1;32mD:\\Data Science\\UROP\\X4\\.venv\\Lib\\site-packages\\matplotlib\\image.py:504\u001B[0m, in \u001B[0;36m_ImageBase._make_image\u001B[1;34m(self, A, in_bbox, out_bbox, clip_bbox, magnification, unsampled, round_to_pixel_border)\u001B[0m\n\u001B[0;32m    502\u001B[0m vrange \u001B[38;5;241m+\u001B[39m\u001B[38;5;241m=\u001B[39m offset\n\u001B[0;32m    503\u001B[0m \u001B[38;5;66;03m# resample the input data to the correct resolution and shape\u001B[39;00m\n\u001B[1;32m--> 504\u001B[0m A_resampled \u001B[38;5;241m=\u001B[39m \u001B[43m_resample\u001B[49m\u001B[43m(\u001B[49m\u001B[38;5;28;43mself\u001B[39;49m\u001B[43m,\u001B[49m\u001B[43m \u001B[49m\u001B[43mA_scaled\u001B[49m\u001B[43m,\u001B[49m\u001B[43m \u001B[49m\u001B[43mout_shape\u001B[49m\u001B[43m,\u001B[49m\u001B[43m \u001B[49m\u001B[43mt\u001B[49m\u001B[43m)\u001B[49m\n\u001B[0;32m    505\u001B[0m \u001B[38;5;28;01mdel\u001B[39;00m A_scaled  \u001B[38;5;66;03m# Make sure we don't use A_scaled anymore!\u001B[39;00m\n\u001B[0;32m    506\u001B[0m \u001B[38;5;66;03m# Un-scale the resampled data to approximately the original\u001B[39;00m\n\u001B[0;32m    507\u001B[0m \u001B[38;5;66;03m# range. Things that interpolated to outside the original range\u001B[39;00m\n\u001B[0;32m    508\u001B[0m \u001B[38;5;66;03m# will still be outside, but possibly clipped in the case of\u001B[39;00m\n\u001B[0;32m    509\u001B[0m \u001B[38;5;66;03m# higher order interpolation + drastically changing data.\u001B[39;00m\n",
      "File \u001B[1;32mD:\\Data Science\\UROP\\X4\\.venv\\Lib\\site-packages\\matplotlib\\image.py:208\u001B[0m, in \u001B[0;36m_resample\u001B[1;34m(image_obj, data, out_shape, transform, resample, alpha)\u001B[0m\n\u001B[0;32m    206\u001B[0m \u001B[38;5;28;01mif\u001B[39;00m resample \u001B[38;5;129;01mis\u001B[39;00m \u001B[38;5;28;01mNone\u001B[39;00m:\n\u001B[0;32m    207\u001B[0m     resample \u001B[38;5;241m=\u001B[39m image_obj\u001B[38;5;241m.\u001B[39mget_resample()\n\u001B[1;32m--> 208\u001B[0m \u001B[43m_image\u001B[49m\u001B[38;5;241;43m.\u001B[39;49m\u001B[43mresample\u001B[49m\u001B[43m(\u001B[49m\u001B[43mdata\u001B[49m\u001B[43m,\u001B[49m\u001B[43m \u001B[49m\u001B[43mout\u001B[49m\u001B[43m,\u001B[49m\u001B[43m \u001B[49m\u001B[43mtransform\u001B[49m\u001B[43m,\u001B[49m\n\u001B[0;32m    209\u001B[0m \u001B[43m                \u001B[49m\u001B[43m_interpd_\u001B[49m\u001B[43m[\u001B[49m\u001B[43minterpolation\u001B[49m\u001B[43m]\u001B[49m\u001B[43m,\u001B[49m\n\u001B[0;32m    210\u001B[0m \u001B[43m                \u001B[49m\u001B[43mresample\u001B[49m\u001B[43m,\u001B[49m\n\u001B[0;32m    211\u001B[0m \u001B[43m                \u001B[49m\u001B[43malpha\u001B[49m\u001B[43m,\u001B[49m\n\u001B[0;32m    212\u001B[0m \u001B[43m                \u001B[49m\u001B[43mimage_obj\u001B[49m\u001B[38;5;241;43m.\u001B[39;49m\u001B[43mget_filternorm\u001B[49m\u001B[43m(\u001B[49m\u001B[43m)\u001B[49m\u001B[43m,\u001B[49m\n\u001B[0;32m    213\u001B[0m \u001B[43m                \u001B[49m\u001B[43mimage_obj\u001B[49m\u001B[38;5;241;43m.\u001B[39;49m\u001B[43mget_filterrad\u001B[49m\u001B[43m(\u001B[49m\u001B[43m)\u001B[49m\u001B[43m)\u001B[49m\n\u001B[0;32m    214\u001B[0m \u001B[38;5;28;01mreturn\u001B[39;00m out\n",
      "\u001B[1;31mKeyboardInterrupt\u001B[0m: "
     ]
    }
   ],
   "execution_count": 144
  },
  {
   "metadata": {},
   "cell_type": "code",
   "source": "",
   "id": "104f55a9c0ff8ec6",
   "outputs": [],
   "execution_count": null
  }
 ],
 "metadata": {
  "kernelspec": {
   "display_name": "Python 3",
   "language": "python",
   "name": "python3"
  },
  "language_info": {
   "codemirror_mode": {
    "name": "ipython",
    "version": 2
   },
   "file_extension": ".py",
   "mimetype": "text/x-python",
   "name": "python",
   "nbconvert_exporter": "python",
   "pygments_lexer": "ipython2",
   "version": "2.7.6"
  }
 },
 "nbformat": 4,
 "nbformat_minor": 5
}
